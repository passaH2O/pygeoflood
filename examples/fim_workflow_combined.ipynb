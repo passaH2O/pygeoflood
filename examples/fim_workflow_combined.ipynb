{
  "cells": [
    {
      "cell_type": "markdown",
      "metadata": {
        "colab_type": "text",
        "id": "view-in-github"
      },
      "source": [
        "<a href=\"https://colab.research.google.com/github/passah2o/pygeoflood/blob/master/examples/fim_workflow_combined.ipynb\" target=\"_parent\"><img src=\"https://colab.research.google.com/assets/colab-badge.svg\" alt=\"Open In Colab\"/></a>\n"
      ]
    },
    {
      "cell_type": "markdown",
      "metadata": {},
      "source": [
        "### Install pygeoflood\n",
        "See README.md installation instructions.\n",
        "\n",
        "On Google Colab, run the following command to install pygeoflood:\n",
        "```bash\n",
        "%pip install git+https://github.com/passah2o/pygeoflood\n",
        "```"
      ]
    },
    {
      "cell_type": "markdown",
      "metadata": {
        "id": "Bs031yHfIwQK"
      },
      "source": [
        "### Import libraries\n"
      ]
    },
    {
      "cell_type": "code",
      "execution_count": 1,
      "metadata": {},
      "outputs": [],
      "source": [
        "from pathlib import Path\n",
        "from pygeoflood import PyGeoFlood"
      ]
    },
    {
      "cell_type": "markdown",
      "metadata": {},
      "source": [
        "### Instantiate PyGeoFlood model class\n"
      ]
    },
    {
      "cell_type": "code",
      "execution_count": 2,
      "metadata": {},
      "outputs": [],
      "source": [
        "pgf = PyGeoFlood()"
      ]
    },
    {
      "cell_type": "markdown",
      "metadata": {},
      "source": [
        "### Set paths to input datasets with our model instance\n"
      ]
    },
    {
      "cell_type": "code",
      "execution_count": 3,
      "metadata": {},
      "outputs": [],
      "source": [
        "pgf.dem_path = \"data/OC1mTest.tif\"\n",
        "pgf.flowline_path = \"data/Flowline.shp\"\n",
        "pgf.catchment_path = \"data/Catchment.shp\"\n",
        "\n",
        "# # we are not using these datasets for this example\n",
        "# pgf.streamflow_forecast_path = \"data/prod_nwm.t00z.analysis_assim.channel_rt.tm00.conus.nc\"\n",
        "# pgf.custom_flowline_path = Path(data_dir, \"NHDPlus_H_1209_HU4_GDB.gdb\")"
      ]
    },
    {
      "cell_type": "markdown",
      "metadata": {},
      "source": [
        "### Download input datasets if necessary"
      ]
    },
    {
      "cell_type": "code",
      "execution_count": 4,
      "metadata": {},
      "outputs": [],
      "source": [
        "# make data directory if it doesn't exist\n",
        "if not Path(\"data\").is_dir():\n",
        "    Path(\"data\").mkdir()\n",
        "# download input datasets if they doesn't exist\n",
        "# DEM from USGS 3DEP\n",
        "if not pgf.dem_path.is_file():\n",
        "    !curl https://utexas.box.com/shared/static/id0in7w8yn38o59sexa50aqunsr7mzk0.tif -Lso data/OC1mTest.tif\n",
        "# flowlines and catchments from NFIE (NHD MR) dataset\n",
        "# https://www.arcgis.com/home/webmap/viewer.html?webmap=9766a82973b34f18b43dafa20c5ef535\n",
        "if not pgf.flowline_path.is_file():\n",
        "    !curl -sL https://utexas.box.com/shared/static/s1vlnymonbidnhul52oja7s83ky1212j.tgz | tar -xz -C data\n",
        "if not pgf.catchment_path.is_file():\n",
        "    !curl -sL https://utexas.box.com/shared/static/jzawwvmb2tjl4yqtnitgvfjcc4ho4tg5.tgz | tar -xz -C data"
      ]
    },
    {
      "cell_type": "markdown",
      "metadata": {},
      "source": [
        "### Run full GeoFlood flood inundation mapping workflow"
      ]
    },
    {
      "cell_type": "code",
      "execution_count": 5,
      "metadata": {},
      "outputs": [
        {
          "name": "stdout",
          "output_type": "stream",
          "text": [
            "Running apply_nonlinear_filter with parameters:\n",
            "    custom_path = None\n",
            "    method = PeronaMalik2\n",
            "    smoothing_quantile = 0.9\n",
            "    time_increment = 0.1\n",
            "    n_iter = 50\n",
            "    sigma_squared = 0.05\n",
            "Computing slope of raw DTM\n",
            "DEM slope array shape: (3378, 4750)\n",
            "Computing lambda = q-q-based nonlinear filtering threshold\n",
            "DEM smoothing Quantile: 0.9\n",
            "Edge Threshold Value: 0.34356024861335754\n",
            "Filtered DEM written to data/OC1mTest_filtered.tif\n",
            "apply_nonlinear_filter completed in 9.0796 seconds\n",
            "\n",
            "Running calculate_slope with parameters:\n",
            "    custom_path = None\n",
            " slope statistics\n",
            " min angle: 0.0\n",
            " max angle: 54.863846043721324\n",
            " mean slope: 0.13960592\n",
            " stdev slope: 0.15432632\n",
            "Slope raster written to data/OC1mTest_slope.tif\n",
            "calculate_slope completed in 1.2224 seconds\n",
            "\n",
            "Running calculate_curvature with parameters:\n",
            "    custom_path = None\n",
            "    method = geometric\n",
            " using geometric curvature\n",
            " curvature statistics\n",
            " non-nan curvature cell number: 16045500\n",
            " non-nan finite curvature cell number:  mean:  -0.00031314598\n",
            " standard deviation:  0.112147875\n",
            "Curvature raster written to data/OC1mTest_curvature.tif\n",
            "calculate_curvature completed in 1.1805 seconds\n",
            "\n",
            "Running fill_depressions with parameters:\n",
            "    custom_path = None\n",
            "Filled DEM written to data/OC1mTest_filled.tif\n",
            "fill_depressions completed in 7.4935 seconds\n",
            "\n",
            "Running calculate_mfd_flow_accumulation with parameters:\n",
            "    custom_path = None\n",
            "MFD flow accumulation raster written to data/OC1mTest_mfd_fac.tif\n",
            "calculate_mfd_flow_accumulation completed in 4.4331 seconds\n",
            "\n",
            "Running calculate_d8_flow_direction with parameters:\n",
            "    custom_path = None\n",
            "D8 flow direction raster written to data/OC1mTest_d8_fdr.tif\n",
            "calculate_d8_flow_direction completed in 1.6693 seconds\n",
            "\n",
            "Running find_outlets with parameters:\n",
            "    custom_path = None\n",
            "Outlets raster written to data/OC1mTest_outlets.tif\n",
            "find_outlets completed in 0.2120 seconds\n",
            "\n",
            "Running delineate_basins with parameters:\n",
            "    custom_path = None\n",
            "Basins raster written to data/OC1mTest_basins.tif\n",
            "delineate_basins completed in 0.9323 seconds\n",
            "\n",
            "Running define_skeleton with parameters:\n",
            "    custom_path = None\n",
            "    fac_threshold = 3000\n",
            "    write_flow_skeleton = False\n",
            "    write_curvature_skeleton = False\n",
            "Curvature mean:  -0.00031413726\n",
            "Curvature standard deviation:  0.11232527\n",
            "Curvature Projection: EPSG:6343\n",
            "Mean upstream flow:  2617.36\n",
            "Combined skeleton written to data/OC1mTest_combined_skeleton.tif\n",
            "define_skeleton completed in 0.7711 seconds\n",
            "\n",
            "Running find_endpoints with parameters:\n",
            "    custom_path = None\n",
            "Endpoints csv written to data/OC1mTest_endpoints.csv\n",
            "find_endpoints completed in 0.0573 seconds\n",
            "\n",
            "Running calculate_binary_hand with parameters:\n",
            "    custom_path = None\n",
            "Binary HAND raster written to data/OC1mTest_binary_hand.tif\n",
            "calculate_binary_hand completed in 4.2855 seconds\n",
            "\n",
            "Running extract_channel_network with parameters:\n",
            "    custom_path = None\n",
            "    vector_extension = shp\n",
            "    write_cost_function = False\n",
            "    use_custom_flowline = False\n",
            "    no_flowline = False\n",
            "    custom_weight_curvature = None\n",
            "    custom_weight_mfd_fac = None\n",
            "    custom_weight_binary_hand = None\n",
            "    custom_weight_custom_flowline = None\n",
            "Cost function weights:\n",
            "curvature          0.2520 (mean flow accumulation)\n",
            "mfd_fac            1.0000\n",
            "binary_hand        0.7500\n",
            "custom_flowline    0.0000\n",
            "Cost min: 0.5028838188775905\n",
            "Cost max: inf\n",
            "cost shape: (3378, 4750)\n",
            "Creating path 1/1: RAM usage: 10.17/16.00 GB (63.6%)\n",
            "Number of endpoints: 1\n",
            "Channel network raster written to data/OC1mTest_channel_network.tif\n",
            "Channel network vector written to data/OC1mTest_channel_network.shp\n",
            "extract_channel_network completed in 1.9667 seconds\n",
            "\n",
            "Running calculate_hand with parameters:\n",
            "    custom_path = None\n",
            "HAND raster written to data/OC1mTest_HAND.tif\n",
            "calculate_hand completed in 5.0212 seconds\n",
            "\n",
            "Running segment_channel_network with parameters:\n",
            "    custom_path = None\n",
            "    vector_extension = shp\n",
            "    segment_length = 1000\n",
            "Segmented channel network written to data/OC1mTest_segmented_channel_network.shp\n",
            "segment_channel_network completed in 0.7174 seconds\n",
            "\n",
            "Running delineate_segment_catchments with parameters:\n",
            "    custom_path = None\n",
            "Segment catchments written to data/OC1mTest_segment_catchments.tif\n",
            "delineate_segment_catchments completed in 1.4482 seconds\n",
            "\n",
            "Running calculate_src with parameters:\n",
            "    custom_path = None\n",
            "    min_slope = 1e-06\n",
            "    max_stage = 20\n",
            "    incr_stage = 0.1\n",
            "    custom_roughness_path = None\n",
            "River attributes written to data/OC1mTest_river_attributes.csv\n",
            "Synthetic rating curves written to data/OC1mTest_src.csv\n",
            "calculate_src completed in 2.8230 seconds\n",
            "\n",
            "Running calculate_flood_stage with parameters:\n",
            "    custom_path = None\n",
            "    custom_Q = 500\n",
            "Applying custom streamflow to each segment: 500 cms\n",
            "Flood stages written to data/OC1mTest_flood_stage.csv\n",
            "calculate_flood_stage completed in 0.0039 seconds\n",
            "\n",
            "Running inundate with parameters:\n",
            "    custom_path = None\n",
            "Flood inundation raster written to data/OC1mTest_fim.tif\n",
            "inundate completed in 0.9383 seconds\n",
            "\n",
            "run_fim_workflow completed in 44.2557 seconds\n",
            "\n"
          ]
        }
      ],
      "source": [
        "# set constant flowrate since we don't have a streamflow forecast\n",
        "# see docs for `PyGeoFlood.config` and `PyGeoFlood.calculate_flood_stage`\n",
        "\n",
        "pgf.config = {\"calculate_flood_stage\": {\"custom_Q\": 500}}\n",
        "\n",
        "pgf.run_fim_workflow()"
      ]
    },
    {
      "cell_type": "markdown",
      "metadata": {},
      "source": [
        "### Plot flood inundation map"
      ]
    },
    {
      "cell_type": "code",
      "execution_count": 6,
      "metadata": {},
      "outputs": [
        {
          "data": {
            "image/png": "[encoded data removed]",
            "text/plain": [
              "<Figure size 640x480 with 2 Axes>"
            ]
          },
          "metadata": {},
          "output_type": "display_data"
        }
      ],
      "source": [
        "import matplotlib.pyplot as plt\n",
        "import rasterio as rio\n",
        "\n",
        "with rio.open(pgf.fim_path) as ds:\n",
        "    fim = ds.read(1)\n",
        "\n",
        "plt.imshow(fim, cmap=\"Blues\")\n",
        "plt.colorbar()\n",
        "plt.show()"
      ]
    },
    {
      "cell_type": "markdown",
      "metadata": {},
      "source": [
        "All output files are saved in the `data` directory and can be downloaded for viewing with a GIS software such as QGIS"
      ]
    },
    {
      "cell_type": "code",
      "execution_count": 7,
      "metadata": {},
      "outputs": [
        {
          "name": "stdout",
          "output_type": "stream",
          "text": [
            "Paths written to data/paths.txt\n"
          ]
        }
      ],
      "source": [
        "# save output data file paths we can load our PyGeoFlood instance later with\n",
        "# pgf = PyGeoFlood.from_paths(\"data/paths.txt\")\n",
        "pgf.to_paths(\"data/paths.txt\")"
      ]
    }
  ],
  "metadata": {
    "colab": {
      "authorship_tag": "ABX9TyMNCi84+7QiD4ra1kbkEbpz",
      "include_colab_link": true,
      "provenance": []
    },
    "kernelspec": {
      "display_name": "Python 3",
      "name": "python3"
    },
    "language_info": {
      "codemirror_mode": {
        "name": "ipython",
        "version": 3
      },
      "file_extension": ".py",
      "mimetype": "text/x-python",
      "name": "python",
      "nbconvert_exporter": "python",
      "pygments_lexer": "ipython3",
      "version": "3.11.8"
    }
  },
  "nbformat": 4,
  "nbformat_minor": 0
}
