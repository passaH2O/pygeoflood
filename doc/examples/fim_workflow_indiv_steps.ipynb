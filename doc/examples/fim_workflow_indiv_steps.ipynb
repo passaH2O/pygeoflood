{
 "cells": [
  {
   "cell_type": "markdown",
   "metadata": {
    "colab_type": "text",
    "id": "view-in-github"
   },
   "source": [
    "# Fluvial flood inundation mapping detailed workflow\n"
   ]
  },
  {
   "cell_type": "markdown",
   "metadata": {},
   "source": [
    "### [![Open In Colab](https://colab.research.google.com/assets/colab-badge.svg)](https://colab.research.google.com/github/passah2o/pygeoflood/blob/master/doc/examples/fim_workflow_combined.ipynb)\n",
    "\n",
    "On Google Colab, run the following command to install pygeoflood:\n",
    "\n",
    "```bash\n",
    "%pip install git+https://github.com/passah2o/pygeoflood\n",
    "```\n"
   ]
  },
  {
   "cell_type": "markdown",
   "metadata": {},
   "source": [
    "### Import libraries\n"
   ]
  },
  {
   "cell_type": "code",
   "execution_count": 1,
   "metadata": {},
   "outputs": [],
   "source": [
    "from pathlib import Path\n",
    "from pygeoflood import PyGeoFlood"
   ]
  },
  {
   "cell_type": "markdown",
   "metadata": {},
   "source": [
    "### Instantiate **pygeoflood** model class\n"
   ]
  },
  {
   "cell_type": "code",
   "execution_count": 2,
   "metadata": {},
   "outputs": [],
   "source": [
    "pgf = PyGeoFlood(dem_path=\"data/OC1mTest.tif\")"
   ]
  },
  {
   "cell_type": "markdown",
   "metadata": {},
   "source": [
    "### Set paths to input datasets\n"
   ]
  },
  {
   "cell_type": "code",
   "execution_count": 3,
   "metadata": {},
   "outputs": [],
   "source": [
    "pgf.flowline_path = \"data/Flowline.shp\"\n",
    "pgf.catchment_path = \"data/Catchment.shp\"\n",
    "\n",
    "# # we are not using these datasets for this example\n",
    "# pgf.streamflow_forecast_path = \"data/prod_nwm.t00z.analysis_assim.channel_rt.tm00.conus.nc\"\n",
    "# pgf.custom_flowline_path = Path(data_dir, \"NHDPlus_H_1209_HU4_GDB.gdb\")"
   ]
  },
  {
   "cell_type": "markdown",
   "metadata": {},
   "source": [
    "### Download input datasets if necessary\n"
   ]
  },
  {
   "cell_type": "code",
   "execution_count": 4,
   "metadata": {},
   "outputs": [],
   "source": [
    "# make data directory if it doesn't exist\n",
    "if not Path(\"data\").is_dir():\n",
    "    Path(\"data\").mkdir()\n",
    "# download input datasets if they doesn't exist\n",
    "# DEM from USGS 3DEP\n",
    "if not pgf.dem_path.is_file():\n",
    "    !curl https://utexas.box.com/shared/static/id0in7w8yn38o59sexa50aqunsr7mzk0.tif -Lso data/OC1mTest.tif\n",
    "# flowlines and catchments from NFIE (NHD MR) dataset\n",
    "# https://www.arcgis.com/home/webmap/viewer.html?webmap=9766a82973b34f18b43dafa20c5ef535\n",
    "if not pgf.flowline_path.is_file():\n",
    "    !curl -sL https://utexas.box.com/shared/static/s1vlnymonbidnhul52oja7s83ky1212j.tgz | tar -xz -C data\n",
    "if not pgf.catchment_path.is_file():\n",
    "    !curl -sL https://utexas.box.com/shared/static/jzawwvmb2tjl4yqtnitgvfjcc4ho4tg5.tgz | tar -xz -C data"
   ]
  },
  {
   "cell_type": "markdown",
   "metadata": {
    "id": "Bs031yHfIwQK"
   },
   "source": [
    "### Fluvial inundation mapping steps\n"
   ]
  },
  {
   "cell_type": "code",
   "execution_count": 5,
   "metadata": {},
   "outputs": [
    {
     "name": "stdout",
     "output_type": "stream",
     "text": [
      "Running apply_nonlinear_filter with parameters:\n",
      "    custom_dem = None\n",
      "    custom_path = None\n",
      "    method = PeronaMalik2\n",
      "    smoothing_quantile = 0.9\n",
      "    time_increment = 0.1\n",
      "    n_iter = 50\n",
      "    sigma_squared = 0.05\n",
      "Computing slope of raw DTM\n",
      "DEM slope array shape: (3378, 4750)\n",
      "Computing lambda = q-q-based nonlinear filtering threshold\n",
      "DEM smoothing Quantile: 0.9\n",
      "Edge Threshold Value: 0.34356024861335754\n",
      "Filtered DEM written to data/OC1mTest_filtered.tif\n",
      "apply_nonlinear_filter completed in 11.6311 seconds\n",
      "\n"
     ]
    }
   ],
   "source": [
    "# apply nonlinear filter to DEM\n",
    "pgf.apply_nonlinear_filter()"
   ]
  },
  {
   "cell_type": "code",
   "execution_count": 6,
   "metadata": {},
   "outputs": [
    {
     "name": "stdout",
     "output_type": "stream",
     "text": [
      "Running calculate_slope with parameters:\n",
      "    custom_filtered_dem = None\n",
      "    custom_path = None\n",
      " slope statistics\n",
      " min angle: 0.0\n",
      " max angle: 54.863846043721324\n",
      " mean slope: 0.13960592\n",
      " stdev slope: 0.15432632\n",
      "Slope raster written to data/OC1mTest_slope.tif\n",
      "calculate_slope completed in 1.2685 seconds\n",
      "\n"
     ]
    }
   ],
   "source": [
    "# calculate slope\n",
    "pgf.calculate_slope()"
   ]
  },
  {
   "cell_type": "code",
   "execution_count": 7,
   "metadata": {},
   "outputs": [
    {
     "name": "stdout",
     "output_type": "stream",
     "text": [
      "Running calculate_curvature with parameters:\n",
      "    custom_filtered_dem = None\n",
      "    custom_path = None\n",
      "    method = geometric\n",
      " using geometric curvature\n",
      " curvature statistics\n",
      " non-nan curvature cell number: 16045500\n",
      " non-nan finite curvature cell number:  mean:  -0.00031314598\n",
      " standard deviation:  0.112147875\n",
      "Curvature raster written to data/OC1mTest_curvature.tif\n",
      "calculate_curvature completed in 1.4374 seconds\n",
      "\n"
     ]
    }
   ],
   "source": [
    "# calculate curvature\n",
    "pgf.calculate_curvature()"
   ]
  },
  {
   "cell_type": "code",
   "execution_count": 8,
   "metadata": {},
   "outputs": [
    {
     "name": "stdout",
     "output_type": "stream",
     "text": [
      "Running fill_depressions with parameters:\n",
      "    custom_filtered_dem = None\n",
      "    custom_path = None\n",
      "./whitebox_tools --run=\"FillDepressions\" --dem='/home/mark/repos/pygeoflood/doc/examples/data/OC1mTest_filtered.tif' --output='/home/mark/repos/pygeoflood/doc/examples/data/OC1mTest_filled.tif' --fix_flats -v --compress_rasters=True\n",
      "\n",
      "******************************\n",
      "* Welcome to FillDepressions *\n",
      "* Powered by WhiteboxTools   *\n",
      "* www.whiteboxgeo.com        *\n",
      "******************************\n",
      "Reading data...\n",
      "Fixing flow on flats...\n",
      "Flats increment value: 0.000002\n",
      "Saving data...\n",
      "Output file written\n",
      "Elapsed Time (excluding I/O): 0.168s\n",
      "Filled DEM written to data/OC1mTest_filled.tif\n",
      "fill_depressions completed in 7.9343 seconds\n",
      "\n"
     ]
    }
   ],
   "source": [
    "# fill depressions on filtered DEM\n",
    "pgf.fill_depressions()"
   ]
  },
  {
   "cell_type": "code",
   "execution_count": 9,
   "metadata": {},
   "outputs": [
    {
     "name": "stdout",
     "output_type": "stream",
     "text": [
      "Running calculate_mfd_flow_accumulation with parameters:\n",
      "    custom_filled_dem = None\n",
      "    custom_path = None\n",
      "./whitebox_tools --run=\"QuinnFlowAccumulation\" --dem='/home/mark/repos/pygeoflood/doc/examples/data/OC1mTest_filled.tif' --output='/home/mark/repos/pygeoflood/doc/examples/data/OC1mTest_mfd_fac.tif' --out_type=cells --exponent=1.0 -v --compress_rasters=True\n",
      "\n",
      "************************************\n",
      "* Welcome to QuinnFlowAccumulation *\n",
      "* Powered by WhiteboxTools         *\n",
      "* www.whiteboxgeo.com              *\n",
      "************************************\n",
      "Saving data...\n",
      "Output file written\n",
      "\n",
      "Elapsed Time (Including I/O): 5.352s\n",
      "MFD flow accumulation raster written to data/OC1mTest_mfd_fac.tif\n",
      "calculate_mfd_flow_accumulation completed in 5.3610 seconds\n",
      "\n"
     ]
    }
   ],
   "source": [
    "# calculate MFD flow accumulation\n",
    "pgf.calculate_mfd_flow_accumulation()"
   ]
  },
  {
   "cell_type": "code",
   "execution_count": 10,
   "metadata": {},
   "outputs": [
    {
     "name": "stdout",
     "output_type": "stream",
     "text": [
      "Running calculate_d8_flow_direction with parameters:\n",
      "    custom_filled_dem = None\n",
      "    custom_filtered_dem = None\n",
      "    custom_path = None\n",
      "./whitebox_tools --run=\"D8Pointer\" --dem='/home/mark/repos/pygeoflood/doc/examples/data/OC1mTest_filled.tif' --output='/home/mark/repos/pygeoflood/doc/examples/data/OC1mTest_d8_fdr.tif' -v --compress_rasters=True\n",
      "\n",
      "****************************\n",
      "* Welcome to D8Pointer     *\n",
      "* Powered by WhiteboxTools *\n",
      "* www.whiteboxgeo.com      *\n",
      "****************************\n",
      "Reading data...\n",
      "Saving data...\n",
      "Output file written\n",
      "Elapsed Time (excluding I/O): 0.90s\n",
      "D8 flow direction raster written to data/OC1mTest_d8_fdr.tif\n",
      "calculate_d8_flow_direction completed in 2.1590 seconds\n",
      "\n"
     ]
    }
   ],
   "source": [
    "# calculate D8 flow directions\n",
    "pgf.calculate_d8_flow_direction()"
   ]
  },
  {
   "cell_type": "code",
   "execution_count": 11,
   "metadata": {},
   "outputs": [
    {
     "name": "stdout",
     "output_type": "stream",
     "text": [
      "Running find_outlets with parameters:\n",
      "    custom_d8_fdr = None\n",
      "    custom_path = None\n",
      "Outlets raster written to data/OC1mTest_outlets.tif\n",
      "find_outlets completed in 0.1952 seconds\n",
      "\n"
     ]
    }
   ],
   "source": [
    "# calculate outlets\n",
    "pgf.find_outlets()"
   ]
  },
  {
   "cell_type": "code",
   "execution_count": 12,
   "metadata": {},
   "outputs": [
    {
     "name": "stdout",
     "output_type": "stream",
     "text": [
      "Running delineate_basins with parameters:\n",
      "    custom_d8_fdr = None\n",
      "    custom_path = None\n",
      "./whitebox_tools --run=\"Basins\" --d8_pntr='/home/mark/repos/pygeoflood/doc/examples/data/OC1mTest_d8_fdr.tif' --output='/home/mark/repos/pygeoflood/doc/examples/data/OC1mTest_basins.tif' -v --compress_rasters=True\n",
      "\n",
      "****************************\n",
      "* Welcome to Basins        *\n",
      "* Powered by WhiteboxTools *\n",
      "* www.whiteboxgeo.com      *\n",
      "****************************\n",
      "Reading data...\n",
      "Saving data...\n",
      "Output file written\n",
      "Elapsed Time (excluding I/O): 0.305s\n",
      "Basins raster written to data/OC1mTest_basins.tif\n",
      "delineate_basins completed in 1.0048 seconds\n",
      "\n"
     ]
    }
   ],
   "source": [
    "# delineate basins\n",
    "pgf.delineate_basins()"
   ]
  },
  {
   "cell_type": "code",
   "execution_count": 13,
   "metadata": {},
   "outputs": [
    {
     "name": "stdout",
     "output_type": "stream",
     "text": [
      "Running define_skeleton with parameters:\n",
      "    custom_curvature = None\n",
      "    custom_mfd_fac = None\n",
      "    custom_path = None\n",
      "    fac_threshold = 3000\n",
      "    write_flow_skeleton = False\n",
      "    write_curvature_skeleton = False\n",
      "Curvature mean:  -0.00031413726\n",
      "Curvature standard deviation:  0.11232527\n",
      "Curvature Projection: EPSG:6343\n",
      "Mean upstream flow:  2617.36\n",
      "Combined skeleton written to data/OC1mTest_combined_skeleton.tif\n",
      "define_skeleton completed in 0.8890 seconds\n",
      "\n"
     ]
    }
   ],
   "source": [
    "# define channel skeletons\n",
    "pgf.define_skeleton()"
   ]
  },
  {
   "cell_type": "code",
   "execution_count": 14,
   "metadata": {},
   "outputs": [],
   "source": [
    "# geodesic distance (not needed for GeoFlood workflow)\n",
    "# pgf.calculate_geodesic_distance(write_cost_function=True) # uncomment this if identifying channel heads"
   ]
  },
  {
   "cell_type": "code",
   "execution_count": 15,
   "metadata": {},
   "outputs": [],
   "source": [
    "# get channel heads (not needed for GeoFlood workflow)\n",
    "# pgf.identify_channel_heads() # uncomment this if identifying channel heads"
   ]
  },
  {
   "cell_type": "code",
   "execution_count": 16,
   "metadata": {},
   "outputs": [
    {
     "name": "stdout",
     "output_type": "stream",
     "text": [
      "Running find_endpoints with parameters:\n",
      "    custom_flowline = None\n",
      "    custom_path = None\n",
      "Endpoints csv written to data/OC1mTest_endpoints.csv\n",
      "find_endpoints completed in 0.0554 seconds\n",
      "\n"
     ]
    }
   ],
   "source": [
    "# get flowline endpoints\n",
    "pgf.find_endpoints()"
   ]
  },
  {
   "cell_type": "code",
   "execution_count": 17,
   "metadata": {},
   "outputs": [
    {
     "name": "stdout",
     "output_type": "stream",
     "text": [
      "Running calculate_binary_hand with parameters:\n",
      "    custom_dem = None\n",
      "    custom_flowline = None\n",
      "    custom_path = None\n",
      "Binary HAND raster written to data/OC1mTest_binary_hand.tif\n",
      "calculate_binary_hand completed in 7.1748 seconds\n",
      "\n"
     ]
    }
   ],
   "source": [
    "# get binary HAND array\n",
    "pgf.calculate_binary_hand()"
   ]
  },
  {
   "cell_type": "code",
   "execution_count": 18,
   "metadata": {},
   "outputs": [],
   "source": [
    "# # get custom flowline from NHD HR dataset (optional)\n",
    "# pgf.rasterize_custom_flowline(layer=\"NHDFlowline\")"
   ]
  },
  {
   "cell_type": "code",
   "execution_count": 19,
   "metadata": {},
   "outputs": [
    {
     "name": "stdout",
     "output_type": "stream",
     "text": [
      "Running extract_channel_network with parameters:\n",
      "    custom_flowline = None\n",
      "    custom_curvature = None\n",
      "    custom_mfd_fac = None\n",
      "    custom_endpoints = None\n",
      "    custom_binary_hand = None\n",
      "    custom_path = None\n",
      "    retrace_flowline = True\n",
      "    vector_extension = shp\n",
      "    write_cost_function = False\n",
      "    use_custom_flowline = False\n",
      "    no_flowline = False\n",
      "    custom_weight_curvature = None\n",
      "    custom_weight_mfd_fac = None\n",
      "    custom_weight_binary_hand = None\n",
      "    custom_weight_custom_flowline = None\n",
      "Retracing flowline...\n",
      "Cost function weights:\n",
      "curvature          0.2520 (mean flow accumulation)\n",
      "mfd_fac            1.0000\n",
      "binary_hand        0.7500\n",
      "custom_flowline    0.0000\n",
      "0.25195235 1 0.75 0\n",
      "Cost min: 0.5028838188775905\n",
      "Cost max: inf\n",
      "cost shape: (3378, 4750)\n",
      "Creating path 1/1: RAM usage: 4.06/54.92 GB (7.4%)\n",
      "Number of endpoints: 1\n",
      "Channel network raster written to data/OC1mTest_channel_network_raster.tif\n",
      "Channel network vector written to data/OC1mTest_channel_network.shp\n",
      "extract_channel_network completed in 2.0907 seconds\n",
      "\n"
     ]
    }
   ],
   "source": [
    "# extract channel network\n",
    "pgf.extract_channel_network()"
   ]
  },
  {
   "cell_type": "code",
   "execution_count": 20,
   "metadata": {},
   "outputs": [
    {
     "name": "stdout",
     "output_type": "stream",
     "text": [
      "Running calculate_hand with parameters:\n",
      "    custom_filled_dem = None\n",
      "    custom_channel_network_raster = None\n",
      "    custom_path = None\n",
      "./whitebox_tools --run=\"ElevationAboveStream\" --dem='/home/mark/repos/pygeoflood/doc/examples/data/OC1mTest_filled.tif' --streams='/home/mark/repos/pygeoflood/doc/examples/data/OC1mTest_channel_network_raster.tif' --output='/home/mark/repos/pygeoflood/doc/examples/data/OC1mTest_HAND.tif' -v --compress_rasters=True\n",
      "\n",
      "***********************************\n",
      "* Welcome to ElevationAboveStream *\n",
      "* Powered by WhiteboxTools        *\n",
      "* www.whiteboxgeo.com             *\n",
      "***********************************\n",
      "Reading DEM data...\n",
      "Reading streams data...\n",
      "Saving data...\n",
      "Output file written\n",
      "Elapsed Time (excluding I/O): 0.509s\n",
      "**********************************************************************************\n",
      "WARNING: Interior pit cells were found within the input DEM. It is likely that the\n",
      "DEM needs to be processed to remove topographic depressions and flats prior to\n",
      "running this tool.\n",
      "**********************************************************************************\n",
      "HAND raster written to data/OC1mTest_HAND.tif\n",
      "calculate_hand completed in 5.0961 seconds\n",
      "\n"
     ]
    }
   ],
   "source": [
    "# calculate HAND\n",
    "pgf.calculate_hand()"
   ]
  },
  {
   "cell_type": "code",
   "execution_count": 21,
   "metadata": {},
   "outputs": [
    {
     "name": "stdout",
     "output_type": "stream",
     "text": [
      "Running segment_channel_network with parameters:\n",
      "    custom_channel_network_vector = None\n",
      "    custom_path = None\n",
      "    vector_extension = shp\n",
      "    segment_length = 1000\n",
      "Segmented channel network written to data/OC1mTest_segmented_channel_network.shp\n",
      "segment_channel_network completed in 1.0009 seconds\n",
      "\n"
     ]
    }
   ],
   "source": [
    "# segment flowline\n",
    "pgf.segment_channel_network()"
   ]
  },
  {
   "cell_type": "code",
   "execution_count": 22,
   "metadata": {},
   "outputs": [
    {
     "name": "stdout",
     "output_type": "stream",
     "text": [
      "Running delineate_segment_catchments with parameters:\n",
      "    custom_segmented_channel_network = None\n",
      "    custom_d8_fdr = None\n",
      "    custom_path = None\n",
      "./whitebox_tools --run=\"Watershed\" --d8_pntr='/home/mark/repos/pygeoflood/doc/examples/data/OC1mTest_d8_fdr.tif' --pour_pts='/home/mark/repos/pygeoflood/doc/examples/data/OC1mTest_segmented_channel_network_raster.tif' --output='/home/mark/repos/pygeoflood/doc/examples/data/OC1mTest_segment_catchments.tif' -v --compress_rasters=True\n",
      "\n",
      "****************************\n",
      "* Welcome to Watershed     *\n",
      "* Powered by WhiteboxTools *\n",
      "* www.whiteboxgeo.com      *\n",
      "****************************\n",
      "Reading data...\n",
      "Saving data...\n",
      "Output file written\n",
      "Elapsed Time (excluding I/O): 0.599s\n",
      "Segment catchments written to data/OC1mTest_segment_catchments.tif\n",
      "delineate_segment_catchments completed in 1.4301 seconds\n",
      "\n"
     ]
    }
   ],
   "source": [
    "# delineate channel network segment catchments\n",
    "pgf.delineate_segment_catchments()"
   ]
  },
  {
   "cell_type": "code",
   "execution_count": 23,
   "metadata": {},
   "outputs": [
    {
     "name": "stdout",
     "output_type": "stream",
     "text": [
      "Running vectorize_segment_catchments with parameters:\n",
      "    custom_segment_catchments_raster = None\n",
      "    custom_path = None\n",
      "Segment catchments vector file written to data/OC1mTest_segment_catchments.shp\n",
      "vectorize_segment_catchments completed in 0.3596 seconds\n",
      "\n"
     ]
    }
   ],
   "source": [
    "# convert channel network segment catchments raster to shapefile\n",
    "# (not needed for FIM workflow)\n",
    "pgf.vectorize_segment_catchments()"
   ]
  },
  {
   "cell_type": "code",
   "execution_count": 24,
   "metadata": {},
   "outputs": [
    {
     "name": "stdout",
     "output_type": "stream",
     "text": [
      "Running calculate_src with parameters:\n",
      "    custom_dem = None\n",
      "    custom_segmented_channel_network = None\n",
      "    custom_segment_catchments_raster = None\n",
      "    custom_catchments = None\n",
      "    custom_hand = None\n",
      "    custom_path = None\n",
      "    min_slope = 1e-06\n",
      "    max_stage = 20\n",
      "    incr_stage = 0.1\n",
      "    custom_roughness_path = None\n",
      "River attributes written to data/OC1mTest_river_attributes.csv\n",
      "Synthetic rating curves written to data/OC1mTest_src.csv\n",
      "calculate_src completed in 5.7083 seconds\n",
      "\n"
     ]
    }
   ],
   "source": [
    "# calculate synthetic rating curves table\n",
    "pgf.calculate_src()"
   ]
  },
  {
   "cell_type": "code",
   "execution_count": 25,
   "metadata": {},
   "outputs": [
    {
     "name": "stdout",
     "output_type": "stream",
     "text": [
      "Running calculate_flood_stage with parameters:\n",
      "    custom_src = None\n",
      "    custom_streamflow_forecast_path = None\n",
      "    custom_path = None\n",
      "    custom_Q = 500\n",
      "Applying custom streamflow to each segment: 500 cms\n",
      "Flood stages written to data/OC1mTest_flood_stage.csv\n",
      "calculate_flood_stage completed in 0.0149 seconds\n",
      "\n"
     ]
    }
   ],
   "source": [
    "# calculate flood stage from synthetic rating curves\n",
    "# pgf.streamflow_forecast_path must be set or custom_Q must be provided\n",
    "pgf.calculate_flood_stage(custom_Q=500)"
   ]
  },
  {
   "cell_type": "code",
   "execution_count": 26,
   "metadata": {},
   "outputs": [
    {
     "name": "stdout",
     "output_type": "stream",
     "text": [
      "Running inundate with parameters:\n",
      "    custom_hand = None\n",
      "    custom_flood_stage = None\n",
      "    custom_segment_catchments_raster = None\n",
      "    custom_path = None\n",
      "Flood inundation raster written to data/OC1mTest_fim.tif\n",
      "inundate completed in 1.5037 seconds\n",
      "\n"
     ]
    }
   ],
   "source": [
    "# create flood depth grid (FIM)\n",
    "pgf.inundate()"
   ]
  },
  {
   "cell_type": "markdown",
   "metadata": {},
   "source": [
    "### Plot flood inundation map\n"
   ]
  },
  {
   "cell_type": "code",
   "execution_count": 27,
   "metadata": {},
   "outputs": [
    {
     "data": {
      "image/png": "[encoded data removed]",
      "text/plain": [
       "<Figure size 640x480 with 2 Axes>"
      ]
     },
     "metadata": {},
     "output_type": "display_data"
    }
   ],
   "source": [
    "import matplotlib.pyplot as plt\n",
    "import numpy as np\n",
    "import rasterio as rio\n",
    "\n",
    "with rio.open(pgf.fim_path) as ds:\n",
    "    fim = ds.read(1)\n",
    "    fim[fim == ds.nodata] = np.nan\n",
    "\n",
    "plt.imshow(fim, cmap=\"Blues\")\n",
    "plt.colorbar()\n",
    "plt.show()"
   ]
  },
  {
   "cell_type": "code",
   "execution_count": 28,
   "metadata": {},
   "outputs": [
    {
     "name": "stdout",
     "output_type": "stream",
     "text": [
      "Paths written to data/paths.txt\n"
     ]
    }
   ],
   "source": [
    "# save output data file paths we can load our PyGeoFlood instance later with\n",
    "# pgf = PyGeoFlood.from_paths(\"data/paths.txt\")\n",
    "pgf.to_paths(\"data/paths.txt\")"
   ]
  },
  {
   "cell_type": "markdown",
   "metadata": {},
   "source": [
    "### Temporary workaround to obtain Dinf HAND (optional)\n",
    "- Dinf HAND creates more realistic FIM than D8 HAND\n",
    "- The previous workflow uses D8 HAND as input to the FIM step\n",
    "- Dinf HAND is not yet supported in pygeoflood (coming soon)\n",
    "- This is a workaround to use TauDEM to obtain Dinf HAND\n",
    "\n",
    "**Note**: TauDEM must be installed on your system for the following steps to work."
   ]
  },
  {
   "cell_type": "code",
   "execution_count": 29,
   "metadata": {
    "vscode": {
     "languageId": "shellscript"
    }
   },
   "outputs": [
    {
     "name": "stdout",
     "output_type": "stream",
     "text": [
      "PitRemove version 5.3.9\n",
      "Input file data/OC1mTest.tif has projected coordinate system.\n",
      "Nodata value input to create partition from file: -340282346638528859811704183484516925440.000000\n",
      "Nodata value recast to float used in partition raster: -340282346638528859811704183484516925440.000000\n"
     ]
    },
    {
     "name": "stderr",
     "output_type": "stream",
     "text": [
      "This run may take on the order of 1 minutes to complete.\n",
      "This estimate is very approximate. \n",
      "Run time is highly uncertain as it depends on the complexity of the input data \n",
      "and speed and memory of the computer. This estimate is based on our testing on \n",
      "a dual quad core Dell Xeon E5405 2.0GHz PC with 16GB RAM.\n"
     ]
    },
    {
     "name": "stdout",
     "output_type": "stream",
     "text": [
      "Processes: 8\n",
      "Header read time: 0.150027\n",
      "Data read time: 0.022143\n",
      "Compute time: 1.112774\n",
      "Write time: 0.461220\n",
      "Total time: 1.746164\n",
      "DinfFlowDir version 5.3.9\n",
      "Input file data/OC1mTest_fel.tif has projected coordinate system.\n",
      "Nodata value input to create partition from file: -300000000549775575777803994281145270272.000000\n",
      "Nodata value recast to float used in partition raster: -300000000549775575777803994281145270272.000000\n"
     ]
    },
    {
     "name": "stderr",
     "output_type": "stream",
     "text": [
      "This run may take on the order of 3 minutes to complete.\n",
      "This estimate is very approximate. \n",
      "Run time is highly uncertain as it depends on the complexity of the input data \n",
      "and speed and memory of the computer. This estimate is based on our testing on \n",
      "a dual quad core Dell Xeon E5405 2.0GHz PC with 16GB RAM.\n",
      "All slopes evaluated. 539517 flats to resolve.\n",
      "Draining flats towards lower adjacent terrain\n",
      "..................................................................................................................................................................................................................................................................................................................................................................................................................\n",
      "Draining flats away from higher adjacent terrain\n",
      ".....................................................\n",
      "Setting directions\n",
      "Iteration complete. Number of flats remaining: 13592\n",
      "Draining flats towards lower adjacent terrain\n",
      "...................................\n",
      "Draining flats away from higher adjacent terrain\n",
      ".........\n",
      "Setting directions\n"
     ]
    },
    {
     "name": "stdout",
     "output_type": "stream",
     "text": [
      "Processors: 8\n",
      "Header read time: 0.019975\n",
      "Data read time: 0.046661\n",
      "Compute Slope time: 1.209763\n",
      "Write Slope time: 0.558134\n",
      "Resolve Flat time: 10.030954\n",
      "Write Flat time: 0.422843\n",
      "Total time: 12.288331\n",
      "DinfDistDown -v version 5.3.9\n",
      "Input file data/OC1mTest_ang.tif has projected coordinate system.\n",
      "Nodata value input to create partition from file: -340282346638528859811704183484516925440.000000\n",
      "Nodata value recast to float used in partition raster: -340282346638528859811704183484516925440.000000\n"
     ]
    },
    {
     "name": "stderr",
     "output_type": "stream",
     "text": [
      "This run may take on the order of 1 minutes to complete.\n",
      "This estimate is very approximate. \n",
      "Run time is highly uncertain as it depends on the complexity of the input data \n",
      "and speed and memory of the computer. This estimate is based on our testing on \n",
      "a dual quad core Dell Xeon E5405 2.0GHz PC with 16GB RAM.\n"
     ]
    },
    {
     "name": "stdout",
     "output_type": "stream",
     "text": [
      "Input file data/OC1mTest_fel.tif has projected coordinate system.\n",
      "Nodata value input to create partition from file: -300000000549775575777803994281145270272.000000\n",
      "Nodata value recast to float used in partition raster: -300000000549775575777803994281145270272.000000\n",
      "Input file data/OC1mTest_channel_network_raster.tif has projected coordinate system.\n",
      "Nodata value input to create partition from file: -32768.000000\n",
      "Nodata value recast to int16_t used in partition raster: -32768\n",
      "Processors: 8\n",
      "Read time: 0.113741\n",
      "Compute time: 4.238761\n",
      "Write time: 0.413969\n",
      "Total time: 4.766471\n"
     ]
    }
   ],
   "source": [
    "%%bash\n",
    "\n",
    "# bash script to generate Dinf HAND with TauDEM\n",
    "\n",
    "# Notes before running this cell:\n",
    "# - Open taudem_hand.sh and update the first two blocks as necessary\n",
    "# - Ensure the TauDEM executables pitremove, dinfflowdir, and dinfdistdown are on your path\n",
    "\n",
    "bash taudem_hand.sh"
   ]
  },
  {
   "cell_type": "code",
   "execution_count": 30,
   "metadata": {},
   "outputs": [
    {
     "name": "stdout",
     "output_type": "stream",
     "text": [
      "Running inundate with parameters:\n",
      "    custom_hand = data/OC1mTest_HAND_taudem.tif\n",
      "    custom_flood_stage = None\n",
      "    custom_segment_catchments_raster = None\n",
      "    custom_path = data/OC1mTest_HAND_taudem_fim\n",
      "Flood inundation raster written to data/OC1mTest_HAND_taudem_fim.tif\n",
      "inundate completed in 1.3180 seconds\n",
      "\n"
     ]
    }
   ],
   "source": [
    "# create FIM with Dinf HAND written in previous step\n",
    "pgf.inundate(\n",
    "    custom_hand=\"data/OC1mTest_HAND_taudem.tif\",\n",
    "    custom_path=\"data/OC1mTest_HAND_taudem_fim\",  # output FIM path\n",
    ")"
   ]
  },
  {
   "cell_type": "markdown",
   "metadata": {},
   "source": [
    "### Plot flood inundation map (Dinf HAND based)"
   ]
  },
  {
   "cell_type": "code",
   "execution_count": 31,
   "metadata": {},
   "outputs": [
    {
     "data": {
      "image/png": "[encoded data removed]",
      "text/plain": [
       "<Figure size 640x480 with 2 Axes>"
      ]
     },
     "metadata": {},
     "output_type": "display_data"
    }
   ],
   "source": [
    "import matplotlib.pyplot as plt\n",
    "import numpy as np\n",
    "import rasterio as rio\n",
    "\n",
    "with rio.open(\"data/OC1mTest_HAND_taudem_fim.tif\") as ds:\n",
    "    fim = ds.read(1)\n",
    "    fim[fim == ds.nodata] = np.nan\n",
    "\n",
    "plt.imshow(fim, cmap=\"Blues\")\n",
    "plt.colorbar()\n",
    "plt.show()"
   ]
  }
 ],
 "metadata": {
  "colab": {
   "authorship_tag": "ABX9TyMNCi84+7QiD4ra1kbkEbpz",
   "include_colab_link": true,
   "provenance": []
  },
  "kernelspec": {
   "display_name": "pygeoflood-git-env",
   "language": "python",
   "name": "python3"
  },
  "language_info": {
   "codemirror_mode": {
    "name": "ipython",
    "version": 3
   },
   "file_extension": ".py",
   "mimetype": "text/x-python",
   "name": "python",
   "nbconvert_exporter": "python",
   "pygments_lexer": "ipython3",
   "version": "3.11.9"
  }
 },
 "nbformat": 4,
 "nbformat_minor": 0
}
